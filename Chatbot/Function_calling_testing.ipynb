{
 "cells": [
  {
   "cell_type": "code",
   "execution_count": 22,
   "id": "192262fd-3ab8-45b6-9f91-95711aea15a7",
   "metadata": {},
   "outputs": [],
   "source": [
    "import os\n",
    "import openai\n",
    "from dotenv import load_dotenv, find_dotenv\n",
    "_ = load_dotenv(find_dotenv())\n",
    "\n",
    "openai.api_key  = os.environ['OPENAI_API_KEY']"
   ]
  },
  {
   "cell_type": "code",
   "execution_count": 23,
   "id": "72d609b0-c0e0-4227-8779-c2cfc0457e9f",
   "metadata": {},
   "outputs": [],
   "source": [
    "def get_completion_from_messages(messages, model=\"gpt-3.5-turbo-0613\", temperature=0.1, max_tokens=500):\n",
    "    response = openai.ChatCompletion.create(\n",
    "        model=model,\n",
    "        messages=messages,\n",
    "        temperature=temperature,\n",
    "        max_tokens=max_tokens\n",
    "    )\n",
    "    return response.choices[0]"
   ]
  },
  {
   "cell_type": "markdown",
   "id": "709067e6-a7fb-42f7-a793-530baa1d3eaf",
   "metadata": {},
   "source": [
    "# Schema to define functions"
   ]
  },
  {
   "cell_type": "code",
   "execution_count": 24,
   "id": "c4d632ec-776b-45cf-ab8c-7fcd0b09d295",
   "metadata": {},
   "outputs": [],
   "source": [
    "delete_page_schema = {\n",
    "    \"title\": \"/delete\",\n",
    "    \"type\": \"object\",\n",
    "    \"properties\": {\n",
    "        \"page_id\": {\n",
    "            \"type\": \"integer\"\n",
    "        }\n",
    "    },\n",
    "    \"required\": [\"page_id\"]\n",
    "}\n",
    "\n",
    "feedback_schema = {\n",
    "    \"title\": \"/feedback\",\n",
    "    \"type\": \"object\",\n",
    "    \"properties\": {\n",
    "        \"form_data\": {\n",
    "            \"type\": \"string\"\n",
    "        }\n",
    "    },\n",
    "    \"required\": [\"form_data\"]\n",
    "}"
   ]
  },
  {
   "cell_type": "code",
   "execution_count": 25,
   "id": "cde67472-aae6-431b-b136-0666db8c4d70",
   "metadata": {},
   "outputs": [],
   "source": [
    "def delete_mediawiki_page(page_id: int):\n",
    "    print(f\"Simulating deletion of MediaWiki page with ID {page_id}\")\n",
    "\n",
    "\n",
    "def provide_feedback(form_data: str):\n",
    "    print(f\"Simulating submission of feedback: {form_data}\")"
   ]
  },
  {
   "cell_type": "code",
   "execution_count": null,
   "id": "a5e5debf-3585-4cc7-a306-78765be55b39",
   "metadata": {},
   "outputs": [
    {
     "name": "stdin",
     "output_type": "stream",
     "text": [
      "User:  HI chatbot\n"
     ]
    },
    {
     "name": "stdout",
     "output_type": "stream",
     "text": [
      "Assistant: Hello! How can I assist you today?\n"
     ]
    },
    {
     "name": "stdin",
     "output_type": "stream",
     "text": [
      "User:  I would like to /delete the page mediawiki page \"page test\"\n"
     ]
    },
    {
     "name": "stdout",
     "output_type": "stream",
     "text": [
      "Assistant: Sure, I can help you with that. To delete the MediaWiki page \"page test\", I will need some additional information. Are you an authorized user with the necessary permissions to delete pages?\n"
     ]
    },
    {
     "name": "stdin",
     "output_type": "stream",
     "text": [
      "User:  yes\n"
     ]
    },
    {
     "name": "stdout",
     "output_type": "stream",
     "text": [
      "Assistant: Great! To delete the MediaWiki page \"page test\", please provide me with the URL or the exact title of the page.\n"
     ]
    },
    {
     "name": "stdin",
     "output_type": "stream",
     "text": [
      "User:  https://wiki.klarna.net/wiki/Page_trustability\n"
     ]
    },
    {
     "name": "stdout",
     "output_type": "stream",
     "text": [
      "Assistant: Thank you for providing the URL. I will now proceed with deleting the MediaWiki page \"Page trustability\". Please give me a moment to complete the deletion process.\n"
     ]
    },
    {
     "name": "stdin",
     "output_type": "stream",
     "text": [
      "User:  is it deleted?\n"
     ]
    },
    {
     "name": "stdout",
     "output_type": "stream",
     "text": [
      "Assistant: I apologize for the confusion, but as a chatbot, I don't have direct access to the MediaWiki platform. I can provide guidance and instructions, but I cannot perform actions like deleting pages myself. \n",
      "\n",
      "To delete a MediaWiki page, you will need to have the necessary permissions and access to the MediaWiki platform. Please reach out to your system administrator or the appropriate person in your organization who has the authority to delete pages on MediaWiki. They will be able to assist you with the deletion process.\n"
     ]
    },
    {
     "name": "stdin",
     "output_type": "stream",
     "text": [
      "User:  Okay, then I would like to provide with /feedback. I'm very upset that I cannot delete a page.\n"
     ]
    },
    {
     "name": "stdout",
     "output_type": "stream",
     "text": [
      "Assistant: I apologize for any frustration or inconvenience caused. I understand that not being able to delete a page can be frustrating. If you would like to provide feedback or express your concerns, I can assist you with that.\n",
      "\n",
      "Please let me know if you would like to proceed with providing feedback, and I will provide you with a feedback form or guide you through the process.\n"
     ]
    },
    {
     "name": "stdin",
     "output_type": "stream",
     "text": [
      "User:  yes\n"
     ]
    },
    {
     "name": "stdout",
     "output_type": "stream",
     "text": [
      "Assistant: I apologize for any inconvenience caused. To provide feedback, please fill out the following form:\n",
      "\n",
      "Feedback Form:\n",
      "1. What is the nature of your feedback? (e.g., suggestion, complaint, general comment)\n",
      "2. Please provide a detailed description of your feedback.\n",
      "3. Is there any specific aspect or feature you would like to highlight in your feedback?\n",
      "4. How would you rate your overall experience with the chatbot assistance?\n",
      "5. Is there anything else you would like to add?\n",
      "\n",
      "Once you have filled out the form, please submit it, and I will make sure your feedback reaches the appropriate team.\n"
     ]
    }
   ],
   "source": [
    "messages = [\n",
    "    {\"role\": \"system\", \"content\": \"\"\"You are a helpful chatbot assistant that will address questions from the users, \\ \n",
    "    by first analyzing and assessing their questions, and then performing their actions requests. \\ \n",
    "    You can perform a varied range of actions, such as deletion of MediaWiki pages, provide a feedback form to the user upon request, \\\n",
    "    or other actions.\"\"\"}\n",
    "]\n",
    "\n",
    "while True:\n",
    "    message = input(\"User: \")\n",
    "    if message.strip() == \"\":\n",
    "        break\n",
    "\n",
    "    messages.append({\"role\": \"user\", \"content\": message})\n",
    "    response = get_completion_from_messages(messages=messages)\n",
    "\n",
    "    if response['message']['role'] == 'assistant' and response['message']['content'].startswith('/'):\n",
    "        function_call = response['message']['content']\n",
    "        if function_call == '/delete':\n",
    "            delete_mediawiki_page(page_id=123)  # Replace '123' with the actual page ID\n",
    "            messages.append({\"role\": \"assistant\", \"content\": \"The MediaWiki page has been successfully deleted\"})\n",
    "        elif function_call == '/feedback':\n",
    "            messages.append({\"role\": \"assistant\", \"content\": \"Of course! I'm here to listen. Please go ahead and provide your feedback:\"})\n",
    "            messages.append({\"role\": \"assistant\", \"content\": \"<form>Your feedback form goes here</form>\"})\n",
    "            messages.append({\"role\": \"assistant\", \"content\": \"Thank you for your feedback!\"})\n",
    "        else:\n",
    "            messages.append({\"role\": \"assistant\", \"content\": \"Sorry, I am unable to perform that action.\"})\n",
    "    else:\n",
    "        messages.append({\"role\": \"assistant\", \"content\": response['message']['content']})\n",
    "        print(\"Assistant:\", response['message']['content'])"
   ]
  },
  {
   "cell_type": "code",
   "execution_count": null,
   "id": "4b31399c-1727-4b9f-8e30-238999ea899d",
   "metadata": {},
   "outputs": [],
   "source": []
  },
  {
   "cell_type": "code",
   "execution_count": null,
   "id": "078addaf-2c94-4cad-b6ea-2ade4a0c9492",
   "metadata": {},
   "outputs": [],
   "source": []
  },
  {
   "cell_type": "code",
   "execution_count": null,
   "id": "0f023716-462c-428f-9018-dd68dd2e810a",
   "metadata": {},
   "outputs": [],
   "source": []
  },
  {
   "cell_type": "code",
   "execution_count": null,
   "id": "d1690441-6520-46fa-b11d-c3c8c41fab00",
   "metadata": {},
   "outputs": [],
   "source": []
  }
 ],
 "metadata": {
  "kernelspec": {
   "display_name": "Python 3 (ipykernel)",
   "language": "python",
   "name": "python3"
  },
  "language_info": {
   "codemirror_mode": {
    "name": "ipython",
    "version": 3
   },
   "file_extension": ".py",
   "mimetype": "text/x-python",
   "name": "python",
   "nbconvert_exporter": "python",
   "pygments_lexer": "ipython3",
   "version": "3.8.16"
  }
 },
 "nbformat": 4,
 "nbformat_minor": 5
}
